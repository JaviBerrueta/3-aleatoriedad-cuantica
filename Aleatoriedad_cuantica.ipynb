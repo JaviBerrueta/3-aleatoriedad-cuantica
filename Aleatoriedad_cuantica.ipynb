{
 "cells": [
  {
   "cell_type": "markdown",
   "id": "2b7a7675",
   "metadata": {},
   "source": [
    "<img align=\"center\" src=\"https://quantumspain-project.es/wp-content/uploads/2022/11/Logo_QS_EspanaDigital.png\" width=\"800px\"/>\n",
    "<figure>\n",
    "<a id='fig_ref'></a>\n",
    "<img src=\"./Images/Logo_TalentQ_Azul.png\" align=center width='200px'/>\n",
    "</figure>\n",
    "<br>\n",
    "<br>\n",
    "\n",
    "\n",
    "\n",
    "<table width=\"100%\"><td style=\" font_style:italic; font-size:50px;text-align:center;background-color:rgba(0, 220, 170,0.7)\">\n",
    "<div>\n",
    "Aleatoriedad Cuántica\n",
    "</div>\n",
    "</td></table>\n",
    "\n",
    "\n",
    "\n",
    "\n",
    "Autores:\n",
    "\n",
    "* Juan Santos\n",
    "* Sebastian V. Romero \n",
    "* Irais Bautista\n",
    "* Constantino Rodríguez\n",
    "* Javier Mas\n",
    "* Nahia Iriarte\n",
    "* Javier Berrueta\n",
    "\n",
    "\n",
    "\n",
    "\n",
    "\n",
    "<a rel=\"license\" href=\"http://creativecommons.org/licenses/by-sa/4.0/\"><img aling=\"left\" alt=\"Licencia Creative Commons\" style=\"border-width:0\" src=\"https://i.creativecommons.org/l/by-sa/4.0/88x31.png\" /></a><br />Licencia: <a rel=\"license\" href=\"http://creativecommons.org/licenses/by-sa/4.0/\">Licencia Creative Commons Atribución-CompartirIgual 4.0 Internacional</a>.\n",
    "\n",
    "$ \\newcommand{\\bra}[1]{\\langle #1|} $\n",
    "$ \\newcommand{\\ket}[1]{|#1\\rangle} $\n",
    "$ \\newcommand{\\braket}[2]{\\langle #1|#2\\rangle} $\n",
    "$ \\newcommand{\\i}{{\\color{blue} i}}$ \n",
    "$ \\newcommand{\\Hil}{{\\mathbb H}}$\n",
    "$ \\newcommand{\\bemat}{\\begin{matrix}} $\n",
    "$ \\newcommand{\\enmat}{\\end{matrix}} $"
   ]
  },
  {
   "cell_type": "code",
   "execution_count": null,
   "id": "1aed5238-f2cd-4deb-ad07-94eae5a97f00",
   "metadata": {},
   "outputs": [],
   "source": [
    "!git clone https://github.com/JaviBerrueta/3-aleatoriedad-cuantica.git\n",
    "\n",
    "%cd 3-aleatoriedad-cuantica\n",
    "\n",
    "!pip install -r https://raw.githubusercontent.com/JaviBerrueta/3-aleatoriedad-cuantica/main/requirements.txt"
   ]
  },
  {
   "cell_type": "code",
   "execution_count": null,
   "id": "29d31547-5ee4-4b9a-9c64-a0af07245a5b",
   "metadata": {},
   "outputs": [],
   "source": [
    "import numpy as np\n",
    "import qibo\n",
    "from qibo import  gates\n",
    "from qibo.models import Circuit"
   ]
  },
  {
   "cell_type": "markdown",
   "id": "4270be35",
   "metadata": {
    "heading_collapsed": true
   },
   "source": [
    "# Introducción\n",
    "\n",
    "**Sucesión de números aleatorios:** Secuencia de observaciones _independientes_ de una variable aleatoria _distribuida uniformemente_ en (0,1).\n",
    "\n",
    "La Mecánica Cuántica afirma que los resultados de una medida son *intrínsecamente aleatorios*.\n",
    "\n",
    "Es un punto de vista radicalmente distinto al de la Mecánica Clásica, que es determinista. Ahí, la aleatoriedad tiene su origen en la *imprecisión* en el conocimiento de las condiciones iniciales de un experimento. \n",
    "\n",
    "En este cuaderno, vamos a ver cómo se puede obtener un recurso computacional de la **aleatoriedad  cuántica**. Para eso abordaremos los siguientes puntos:\n",
    "1. Generador clásico pseudo-aleatorio\n",
    "2. Aproximación de $\\pi$ con el generador clásico\n",
    "3. Generar números aleatorios mediante computación cuántica\n",
    "4. Aproximar $\\pi$ con este nuevo generador\n",
    "5. Generador de números aleatorios (CESGA)"
   ]
  },
  {
   "cell_type": "markdown",
   "id": "199e9690",
   "metadata": {},
   "source": [
    "# Generador clásico  pseudo-aleatorio\n",
    "\n",
    "En esta sección vamos a crear un generador aleatorio clásico *rudimentario*. Se trata de una función que arroja números sucesivos realizando una simple operación matemática sobre uno para generar el siguiente. \n",
    "\n"
   ]
  },
  {
   "cell_type": "markdown",
   "id": "b2a6e7c6",
   "metadata": {},
   "source": [
    "Concretamente <u>vamos a programar un [generador lineal congurencial](https://es.wikipedia.org/wiki/Generador_lineal_congruencial)</u>. Esta función, a partir de un primer número $s_0\\in [0,1]$, devuelve $s_1$ dado por la expresión siguiente: \n",
    "\n",
    "$$\n",
    "s_{i+1} = \\big((a\\cdot s_i) \\, \\hbox{mod} \\, m\\big) /m\n",
    "$$ \n",
    "\n",
    "\n",
    " A partir de $s_1$ podemos volver a usar la misma función para obtener $s_2$ y así, sucesivamente $s_3, s_4,... $ cada uno a partir del anterior.\n",
    "\n",
    "Observa que, por construcción, sólo puede haber $m$ números distintos $s_i$ en el intervalo $[0,1]$ que son los *posibles restos* de la división $a\\cdot s$ entre $m$. Así que, como mínimo, al cabo de $m$ iteraciones tendrán que repetirse la serie. De hecho, dependiendo de los valores relativos de $s_0, a$ y $m$, puede haber ciclos que aparezcan mucho antes.  \n",
    "\n",
    "\n",
    "En el código a continuación la <u>variable global *seed*</u> será la que asuma los valores $s_0 \\to s_1\\to s_2\\to ...$\n",
    "\n"
   ]
  },
  {
   "cell_type": "code",
   "execution_count": null,
   "id": "1d3ecfcd",
   "metadata": {},
   "outputs": [],
   "source": [
    "'este es el primer valor s0'\n",
    "seed = 0.7\n",
    "\n",
    "def rn_gen_clasico(N=1):\n",
    "    'Generador de N números pseudo aleatorios'\n",
    "    global seed\n",
    "    if seed == 0 : seed=1  # Esto es un truco para evitar quedarnos atascados si seed=0\n",
    "    random_numbers = np.zeros(N)\n",
    "    'ahora generamos s(i+1) a partir de s(i)  N veces'\n",
    "    for i in range(N):\n",
    "        seed = (a*seed  % m)/m\n",
    "        random_numbers[i] = seed\n",
    "    return random_numbers    "
   ]
  },
  {
   "cell_type": "markdown",
   "id": "0a583f8a",
   "metadata": {},
   "source": [
    "Ahora puedes generar tus propios números aleatorios. Corre la siguiente celda varias veces y observa el resultado."
   ]
  },
  {
   "cell_type": "code",
   "execution_count": null,
   "id": "ce9e0df0-17c8-4048-afce-3db851de530e",
   "metadata": {},
   "outputs": [],
   "source": [
    "'Estos parámetros son modificables'\n",
    "'**********************************'\n",
    "a = 1200\n",
    "n = 5 # vamos a escribir m = 2**(2*n) para \"comparar\" con el caso cuántico con 2n cúbits\n",
    "m = 2**(2*n)\n",
    "'**********************************'\n",
    "\n",
    "rn_gen_clasico()[0]"
   ]
  },
  {
   "cell_type": "markdown",
   "id": "fd346851-2d1d-4c77-817d-40dea4cb8a4b",
   "metadata": {},
   "source": [
    "Ahora ya podemos crear una lista de 1000 números pseudo-aleatorios $s_i \\in [0,1]$ y representar sus valores."
   ]
  },
  {
   "cell_type": "code",
   "execution_count": null,
   "id": "ac93b383",
   "metadata": {
    "run_control": {
     "marked": true
    }
   },
   "outputs": [],
   "source": [
    "'Estos parámetros son modificables'\n",
    "'**********************************'\n",
    "a = 1200\n",
    "n = 5 \n",
    "m = 2**(2*n)\n",
    "seed = 0.9\n",
    "'**********************************'\n",
    "\n",
    "numeros_lista = list(range(1000))\n",
    "rn_clasicos_lista = rn_gen_clasico(N=1000)\n",
    "\n",
    "'hacemo el plot'\n",
    "import matplotlib.pyplot as plt\n",
    "plt.plot(numeros_lista ,rn_clasicos_lista,'.')"
   ]
  },
  {
   "cell_type": "markdown",
   "id": "59b97fc1",
   "metadata": {},
   "source": [
    "Puede parecer que los números son totalmente aleatorios. Sin embargo esto no es así. Dependiendo de los valores que demos a  $a$ y a $m$ hay periodicidades en la función modular que introducen correlaciones. En este histograma podemos ver la frecuencia relativa de aparición de cada número y veremos que no es uniforme, en general."
   ]
  },
  {
   "cell_type": "code",
   "execution_count": null,
   "id": "e469658f",
   "metadata": {},
   "outputs": [],
   "source": [
    "plt.hist(rn_clasicos_lista)"
   ]
  },
  {
   "cell_type": "markdown",
   "id": "96a96283",
   "metadata": {},
   "source": [
    "<div class=\"alert alert-block alert-success\">\n",
    "<b>¡A jugar!</b>:   modifica los parámetros $a$ y $n$ y observa si aparecen patrones en la distribución de puntos, así como la estadística de resultados en el histograma.\n",
    "</div>\n"
   ]
  },
  {
   "cell_type": "markdown",
   "id": "bf0ec9b2",
   "metadata": {},
   "source": [
    "# Montecarlo "
   ]
  },
  {
   "cell_type": "markdown",
   "id": "32add5f6",
   "metadata": {},
   "source": [
    "Una de las utilidades más frecuentes de la generación de números aleatorios se encuentra en el método Montecarlo.Vamos a ilustrar este método con un clásico: \n",
    "\n",
    "<center>\n",
    "<b>Objetivo:</b> obtener el número $\\pi$ con la mayor precisión posible\n",
    "</center>\n",
    "<br>\n",
    "\n",
    "Para ello pensaremos en un cuadrado $A$,  de 1 metro de lado, es decir, de área $S_A = 1$  en el plano. En su interior inscribiremos un cuarto de circunferencia. El área interior a la circunferencia es $S_C = \\pi/4$. \n",
    "Si conseguimos calcular el área $S_C$, obtener $\\pi$ no es más que despejar.\n",
    "\n",
    "\n",
    "<figure><center>\n",
    "<a id='fig_ref'></a>\n",
    "<img src=\"./Images/semicirculo.png\" align=center width='500px'/>\n",
    "</center></figure>\n",
    "\n",
    "La idea es lanzar $N_A$ puntos de forma aleatoria sobre el área $A$ del cuadrado. \n",
    "El área de la subregión  y el área del dominio total estarán en la misma proporción que el número de puntos que caen dentro del círculo, $N_C$, sobre el total de puntos, $N_A$.\n",
    "\n",
    "$$\n",
    "\\frac{S_C}{S_A} \\approx \\frac{N_C}{N_A}\n",
    "$$\n",
    "\n",
    "Si la longitud del lado es $1$ el área del cuadrado será  $S_A = 1$  y el del cuadrante de circunferencia $S_C = \\pi/4$. De aquí obtenemos una forma de *aproximar*  el número $\\pi$.\n",
    "\n",
    "\n",
    "\n",
    "$$\n",
    "\\pi \\approx 4 \\frac{N_C}{N_{A}}\n",
    "$$\n",
    "\n",
    "\n",
    "Para aumentar la precisión en esta aproximación  es necesario:\n",
    "\n",
    "- aumentar el número total de puntos\n",
    "\n",
    "- que las variables  $x$ e $y$ estén *uniformemente distribuidas*  y  sean *realmente aleatorias*\n",
    "\n",
    "Este último aspecto, la *independencia aleatoria* de los puntos es el que sólo podemos aproximar cuando usamos generadores pseudo-aleatorios. "
   ]
  },
  {
   "cell_type": "markdown",
   "id": "1ad812a7-9b54-48cb-9975-9390e08fa506",
   "metadata": {},
   "source": [
    "La siguiente función *MonteCarlo* llama a un *generador* para crear una lista de N coordenadas $(x_i,y_i)$ aleatorias y mirar si caen dentro del círculo $x^2 + y^2 = 1$ o no. Cada vez que sí cae dentro añade 1 al contador NC."
   ]
  },
  {
   "cell_type": "code",
   "execution_count": null,
   "id": "fe07b316",
   "metadata": {},
   "outputs": [],
   "source": [
    "'función para generar el Montecarlo del semicírculo'\n",
    "def MonteCarlo(N, generador):\n",
    "    global seed, x_list, y_list, dentro, fuera\n",
    "\n",
    "    ' el número total de puntos sobre el cuadrado'\n",
    "    NA = N\n",
    "    ' la variable que va acumulando +1 cada vez que un punto cae dentro del círculo'\n",
    "    NC = 0  \n",
    "\n",
    "    'metodo 0 para obtener las coordenadas x e y'\n",
    "    rn_list = generador(2*N)\n",
    "    x_list = rn_list[:N]\n",
    "    y_list = rn_list[N:]\n",
    "\n",
    "    'metodo 1 para obtener las coordenadas x e y'\n",
    "#    rn_list = generador(2*N) # las entradas pares\n",
    "#    x_list = rn_list[::2]  # las entradas pares serán las x_i\n",
    "#    y_list = rn_list[1::2] # las entradas impares serán las y_i\n",
    "\n",
    "    'Contamos cuántos de los puntos están dentro del circulo de radio 1'\n",
    "    d = x_list**2+y_list**2\n",
    "    dentro = d<=1\n",
    "    fuera = d>1\n",
    "    NC = np.sum(dentro)\n",
    "    ratio = NC/NA \n",
    "    \n",
    "    return 4*ratio\n",
    "\n",
    "'función para graficar los puntos generados por el MonteCarlo'\n",
    "def grafica_de_puntos():\n",
    "    fig, ax = plt.subplots(1, 1, figsize = (10, 10))\n",
    "    ax.plot(x_list[dentro], y_list[dentro], 'go', label='Puntos dentro del círculo: %i' % np.sum(dentro), markersize=1)\n",
    "    ax.plot(x_list[fuera], y_list[fuera], 'ro', label='Puntos fuera del círculo: %i' % np.sum(fuera), markersize=1)\n",
    "    ax.set_xlabel('$x$')\n",
    "    ax.set_ylabel('$y$')\n",
    "    x_circle = np.linspace(0, 1, 1000)\n",
    "    ax.plot(x_circle, np.sqrt(1-x_circle*x_circle), 'k')\n",
    "    ax.set_xlim(0, 1)\n",
    "    ax.set_ylim(0, 1)\n",
    "    ax.legend()\n",
    "    plt.show()"
   ]
  },
  {
   "cell_type": "markdown",
   "id": "9f4ab809",
   "metadata": {},
   "source": [
    "Ya podemos ejecutar  y calcular una estimación de $\\pi$ usando el *generador* rudimentario *rn_gen_clasico*."
   ]
  },
  {
   "cell_type": "code",
   "execution_count": null,
   "id": "999847af",
   "metadata": {},
   "outputs": [],
   "source": [
    "N  = 10000 # Número de puntos\n",
    "a = 1200   # valor de a\n",
    "n = 5\n",
    "m = 2**(2*n) # valor de m equivalente a numeros binarios de 2n bits\n",
    "\n",
    "pi_value = MonteCarlo(N, rn_gen_clasico)\n",
    "\n",
    "\n",
    "print(f'El valor estimado de pi es {pi_value}')\n",
    "print(f'El valor exacto de pi es {np.pi}')\n",
    "\n",
    "grafica_de_puntos()"
   ]
  },
  {
   "cell_type": "markdown",
   "id": "1ede0cd4",
   "metadata": {},
   "source": [
    "<div class=\"alert alert-block alert-success\">\n",
    "<b>¡A jugar!</b>:  cambia los parámetros $a$ y $n$ observa las correlaciones tan misteriosas que pasaban inadvertidas. Cambia al método 2 dentro de la función comentando y descomentando líneas. Observa el resultado.\n",
    "</div>\n"
   ]
  },
  {
   "cell_type": "markdown",
   "id": "fa04eef0",
   "metadata": {},
   "source": [
    "Vamos a ejecutar el MonteCarlo  **100 veces** para distintos números $N$ de puntos y un generador de números aleatorio fijo. La media de los 100 resultados nos dará una estimación de la *calidad de nuestro generador*.\n"
   ]
  },
  {
   "cell_type": "code",
   "execution_count": null,
   "id": "6d6f146d",
   "metadata": {},
   "outputs": [],
   "source": [
    "pi_100_puntos   = [MonteCarlo(100, rn_gen_clasico) for i in range(100)]\n",
    "print('La media de pi con N=100 puntos    es %3.4f y su desviación típica %3.4f.' % (np.mean(pi_100_puntos), np.std(pi_100_puntos)))\n",
    "\n",
    "pi_1000_puntos  = [MonteCarlo(1000, rn_gen_clasico) for i in range(100)]\n",
    "print('La media de pi con N=1000 puntos   es %3.4f y su desviación típica %3.4f.' % (np.mean(pi_1000_puntos), np.std(pi_1000_puntos)))\n",
    "\n",
    "pi_10000_puntos = [MonteCarlo(10000, rn_gen_clasico) for i in range(100)]\n",
    "print('La media de pi con N=10000  puntos es %3.4f y su desviación típica %3.4f.' % (np.mean(pi_10000_puntos), np.std(pi_10000_puntos)))\n",
    "\n",
    "pi_100000_puntos = [MonteCarlo(int(1e5), rn_gen_clasico) for i in range(100)]\n",
    "print('La media de pi con N=100000 puntos es %3.4f y su desviación típica %3.4f.' % (np.mean(pi_100000_puntos), np.std(pi_100000_puntos)))"
   ]
  },
  {
   "cell_type": "markdown",
   "id": "66f64df2-ab4f-4fa9-8f06-5a607084d112",
   "metadata": {},
   "source": [
    "Podemos graficar los histogramas de los distintos experimentos para ver cómo la desviación cambia con $N$, pero la media no."
   ]
  },
  {
   "cell_type": "code",
   "execution_count": null,
   "id": "98492e25",
   "metadata": {},
   "outputs": [],
   "source": [
    "hist = plt.hist(pi_100_puntos,   density=True, alpha = 0.6, label='N=%i' % 100)\n",
    "hist = plt.hist(pi_1000_puntos,  density=True, alpha = 0.6, label='N=%i' % 1000)\n",
    "hist = plt.hist(pi_10000_puntos, density=True, alpha = 0.6, label='N=%i' % 10000)\n",
    "hist = plt.hist(pi_100000_puntos, density=True, alpha = 0.6, label='N=%i' % 100000)\n",
    "\n",
    "plt.vlines(np.pi, 0, np.max(hist[0]), 'k', label =r'$\\pi$')\n",
    "plt.legend()\n",
    "plt.show()"
   ]
  },
  {
   "cell_type": "markdown",
   "id": "47f60021-4b32-42e2-aed6-39a3c9edde47",
   "metadata": {},
   "source": [
    "<div class=\"alert alert-block alert-success\">\n",
    "<b>¡A jugar!</b>: Fija  $N$=10000 puntos. Vuelve a cambiar los parámetros $a$ y $n$ y busca los valores que te den la mejor aproximación en valor medio a $\\pi$. Anota también la desviación típica.   \n",
    "</div>"
   ]
  },
  {
   "cell_type": "markdown",
   "id": "18f1a2f4",
   "metadata": {},
   "source": [
    "# Números aleatorios mediante Computación Cuántica\n",
    "\n",
    " Vamos a atacar el mismo problema ahora, pero utilizaremos la mecánica cuántica para generar nuestros números aleatorios. Lo haremos de dos maneras. Primeramente, vamos a programar un ordenador cuántico. Posteriormente usaremos un generador específico para hacerlo.\n",
    "\n"
   ]
  },
  {
   "cell_type": "markdown",
   "id": "b6c1bbe2-c561-4cf3-84f7-4b4a09a438a3",
   "metadata": {},
   "source": [
    "## Circuito Cuántico\n",
    "\n",
    "Vamos a aprovechar que [Quantum Spain](https://quantumspain-project.es/en/quantum-spain/) ha puesto a disposición pública un ordenador cuántico de 5 qúbits en el Barcelona Supercomputing Center. Intentaremos sacar  partido de esta máquina.\n",
    "\n",
    "### Explicación Teórica\n",
    "\n",
    "En computación cuántica se trabaja con estados cuánticos, si los expresamos en la base computacional el estado genérico $\\ket{u} = a\\ket{0} + b \\ket{1}$, podemos entender los estados como vectores. Para poder trabajar con los estados aplicamos puertas, estas corresponden a matrices. En esta práctica solo utilizaremos la puerta de Hadamard (H). \n",
    "\n",
    "$$\n",
    "\\begin{array}{rclcl}\n",
    "\\ket{0} &\\sim& \\begin{bmatrix}  1\\\\ 0\\end{bmatrix} ~~~~~~~~~~~~\n",
    "\\ket{1} &\\sim&  \\begin{bmatrix}  0\\\\ 1\\end{bmatrix} ~~~~~~~~~~~~\n",
    "H   =  \\frac{1}{\\sqrt{2}} \\begin{bmatrix} 1& 1 \\\\ 1 & -1 \\end{bmatrix} \n",
    "\\end{array}\n",
    "$$\n",
    "\n",
    "La puerta de Hadamard construye una *superposición equilibrada* de los estados $\\ket{0}$ y $\\ket{1}$\n",
    "\n",
    "$$\n",
    "\\ket{0} ~~\\rightarrow ~~ H  \\ket{0} ~= ~ \\ket{+} = \\frac{1}{\\sqrt{2}}\\big( \\ket{0} + \\ket{1}\\big) $$\n",
    "\n",
    "<div class=\"alert alert-block alert-info\">\n",
    "<p style=\"text-align: center;\"> <p style=\"text-align: center ;color: navy;\">  \n",
    " $\\Rightarrow$ <b> con idéntica probabilidad</b>, $1/2$,  una medida del estado $\\ket{+}$  resultará en valores $0$ ó $1$  \n",
    "</p></div>\n",
    "\n",
    "Para que se entienda mejor lo que estamos haciendo con esta puerta H, podriamos decir que representa la idea de tirar una moneda. Tengo una moneda en un estado inicial y la lanzo al aire. Esto mismo, en un circuito se representa como sigue."
   ]
  },
  {
   "cell_type": "code",
   "execution_count": null,
   "id": "9639d72a-633b-442c-8ab7-f2846311a0ad",
   "metadata": {},
   "outputs": [],
   "source": [
    "'dibujamos el circuito usando qiskit'\n",
    "def draw_qibo_circuit_mpl(qcircuit):\n",
    "    from qiskit import QuantumCircuit\n",
    "    return QuantumCircuit.from_qasm_str(qcircuit.to_qasm()).draw('mpl',style='iqp')\n",
    "    "
   ]
  },
  {
   "cell_type": "code",
   "execution_count": null,
   "id": "20038d22-abfc-4990-890e-d378e5a336b5",
   "metadata": {},
   "outputs": [],
   "source": [
    "'ahora fabricamos el circuito con doble pueta WH '\n",
    "num_qubits = 1\n",
    "qc_mon = Circuit(num_qubits)\n",
    "\n",
    "'primera tirada'\n",
    "qc_mon.add(gates.H(0))\n",
    "\n",
    "'medimos'\n",
    "qc_mon.add(gates.M(0))\n",
    "\n",
    "draw_qibo_circuit_mpl(qc_mon)"
   ]
  },
  {
   "cell_type": "markdown",
   "id": "5d3e59c5",
   "metadata": {},
   "source": [
    "La estrategia será la siguiente: vamos a programar nuestro ordenador de manera que \n",
    "\n",
    "- **inicialmente** los  $n$ cúbits de nuestro ordenador  estén en el estado $\\ket{0}\\ket{0}...\\ket{0} = \\ket{00...0}$.\n",
    "\n",
    "- a continuación, **aplicaremos la puerta de Hadamard** sobre cada uno de ellos  obteniendo así la superposición $\\ket{+}\\ket{+}...\\ket{+} = \\ket{++...+}$  \n",
    "<br>\n",
    "Por ejemplo, supongamos que $n=3$. Entonces, el estado a la salida del circuito será\n",
    "<br>    \n",
    "$$\n",
    "\\begin{array}{rcl}\n",
    "H^{\\otimes 3}\\ket{000} ~~=~~ H\\ket{0} H\\ket{0} H\\ket{0} ~~=~~ \\ket{+++} &=&\\displaystyle \\frac{1}{\\sqrt{2}}\\big(\\ket{0} + \\ket{1}\\big)\\frac{1}{\\sqrt{2}}\\big(\\ket{0} + \\ket{1}\\big)\\frac{1}{\\sqrt{2}}\\big(\\ket{0} + \\ket{1}\\big) \\\\\n",
    "&=&\\displaystyle \\frac{1}{2^{3/2}}\\big(\n",
    "\\ket{000} + \\ket{001} + \\ket{010} + \\ket{011} + \\ket{100} + \\ket{101} + \\ket{110} + \\ket{111}  \\big)\n",
    "\\end{array}\n",
    "$$\n",
    "<br>    \n",
    "- finalmente **realizaremos medidas**  en todos los cúbits, colapsando la función de onda <b>de cada cúbit</b> bien a $\\ket{0}$ ó a $\\ket{1}$ con igual probabilidad $1/2$.\n",
    "\n",
    "Vamos a programar este circuito en el lenguaje de programación [QIBO](https://qibo.science/)"
   ]
  },
  {
   "cell_type": "code",
   "execution_count": null,
   "id": "5df3486a-8316-4999-ad65-0abaef942c1f",
   "metadata": {},
   "outputs": [],
   "source": [
    "'fabricamos el  circuito en Qibo'\n",
    "num_qubits = 5\n",
    "qc_rng = Circuit(num_qubits)\n",
    "for i in range(num_qubits):\n",
    "    'añadimos las puertas de Hadamard'\n",
    "    qc_rng.add(gates.H(i))\n",
    "    'añadimos los aparatos de medida'\n",
    "    qc_rng.add(gates.M(i))\n",
    "\n",
    "\n",
    "'dibujamos el circuito usando qiskit'\n",
    "draw_qibo_circuit_mpl(qc_rng)\n"
   ]
  },
  {
   "cell_type": "markdown",
   "id": "3f3d3ed5",
   "metadata": {},
   "source": [
    "Vamos a ejecutar el circuito ¡en un **ordenador cuántico** de verdad!"
   ]
  },
  {
   "cell_type": "markdown",
   "id": "acc0e42c-796d-4894-8023-74662367489b",
   "metadata": {},
   "source": [
    "### Generación de números aleatorios en el ordenador cuántico de Quantum Spain"
   ]
  },
  {
   "cell_type": "markdown",
   "id": "b435e4ac-810e-495a-b5dd-c682b6a7f3cf",
   "metadata": {},
   "source": [
    "Primero importamos algunas librerías necesarias para la ejecución"
   ]
  },
  {
   "cell_type": "code",
   "execution_count": null,
   "id": "5ec89158-ec02-461b-8216-4f6b30d5326b",
   "metadata": {},
   "outputs": [],
   "source": [
    "'Importamos algunas librerias básicas'\n",
    "from qiboconnection.api import API\n",
    "from qiboconnection.connection import ConnectionConfiguration\n",
    "\n",
    "'Introducimos el usuario y la api_key'\n",
    "configuration = ConnectionConfiguration(username = \"user.quantumday\",api_key = \"apikey.quantumday\")\n",
    "api = API(configuration = configuration)\n",
    "\n",
    "'Aqui podemos ver el estado del chip, Galadriel Qblox rack'\n",
    "#display(api.list_devices())\n",
    "\n",
    "'Seleccionamos el chip'\n",
    "api.select_device_id(device_id=9)\n",
    "# Podéis ver detalles técnicos sobre cómo funciona este ordenador cuántico en este vídeo https://www.youtube.com/watch?v=ORi1FhatZdY&t=2432s\n",
    "\n",
    "import time"
   ]
  },
  {
   "cell_type": "markdown",
   "id": "9fddcac4-8dba-4615-8329-4b3c76e50622",
   "metadata": {},
   "source": [
    "Ahora ejecutar el circuito de 5 cúbits un número $2N$ de veces. La salida serán $2N$ números en binario de $5$-bits, del tipo: [01011, 00111, ...] .\n",
    "Esto lo hacemos para poder empalmar de 2 en 2 y formar $N$ **números en binario de $10$-bits**, del tipo [0101100111, ...]\n",
    "\n",
    "  ¡IMPORTANTE!: ESPERA A QUE EL TRABAJO SE COMPLETE. Mientras la celda esté con asterisco (trabajando) ¡NO PUEDES VOLVER HACER CLICK EN ELLA!"
   ]
  },
  {
   "cell_type": "code",
   "execution_count": null,
   "id": "1b681b67-7bf8-43de-b894-601523923c4c",
   "metadata": {},
   "outputs": [],
   "source": [
    "'Enviamos a ejecución. Si se satura la cola: ¡intercambiar las líneas de jobID!'\n",
    "Nshots = 8000\n",
    "grupo = 0\n",
    "\n",
    "# jobId = [12047]  # Utilizar sólo si se satura la cola. No borrar los corchetes, solo tienes que descomentar la línea.\n",
    "jobId = api.execute(circuit=[qc_rng]*2,nshots = Nshots)\n",
    "\n",
    "print('Se ha enviado el trabajo. Su ID es:', jobId[0])\n",
    "\n",
    "'Monitorizamos la ejecución del trabajo'\n",
    "result = api.get_results(job_ids=jobId)\n",
    "while result[0]==None:\n",
    "    time.sleep(20)\n",
    "    #print('Tu trabajo esta en espera')\n",
    "    result = api.get_results(job_ids=jobId)"
   ]
  },
  {
   "cell_type": "markdown",
   "id": "ea65692f-9c86-4b58-a4f4-58c800bf5f95",
   "metadata": {},
   "source": [
    "Ahora construimos el generador de números aleatorios *rn_gen_bsc* basado en el circuito cuántico\n",
    "\n",
    "- primero llama a la función *recibir_datos* para leer la salida del trabajo\n",
    " \n",
    "- después transformamos esta serie en números enteros en base diez: [359, ...].\n",
    "\n",
    "- finalmente lo normalizamos por el valor más alto [0.35092, ...]\n"
   ]
  },
  {
   "cell_type": "code",
   "execution_count": null,
   "id": "7e331e16-23ab-46eb-aa96-65dbea75fb4e",
   "metadata": {},
   "outputs": [],
   "source": [
    "'el generador aleatorio basado en el circuito'\n",
    "def rn_gen_bsc(N=1,n=10,v=False):\n",
    "    '''Genera N números de n bits en el ordenador cuántico de Barcelona\n",
    "    Esta función está programada para que recoja los datos generados por el monitor asociados a un trabajo y a un grupo determinados.\n",
    "    Si v=True, devolverá solo N números, en binario, decimal y normalizado.\n",
    "    Si v=False, devolverá 2N números normalizados listos para usarse en el Montecarlo como coordenadas (x_i, y_i)''' \n",
    "    global jobId, grupo\n",
    "    nq = qc_rng.nqubits\n",
    "    \n",
    "    result0 = api.get_results(job_ids=jobId)\n",
    "    result = [result0[0][2*grupo], result0[0][2*grupo+1]]\n",
    "\n",
    "    rn_binario = np.array([])\n",
    "    rn_decimal = np.array([])\n",
    "    rn_normalizado = np.array([])\n",
    "    for k in range(2):\n",
    "        samples=result[k]['samples']\n",
    "        qk_mem=[]\n",
    "        for i in range(len(samples)):\n",
    "            ch=''\n",
    "            for j in range(nq):\n",
    "                ch+=str(samples[i][j])\n",
    "            qk_mem.append(ch)\n",
    "        resultado = np.reshape(qk_mem, (N//2, n//nq))\n",
    "        rn_binario_temp = np.array([''.join(res) for res in resultado])\n",
    "        ' pasamos de notación binaria a decimal '\n",
    "        rn_decimal_temp = np.array([int(rn, 2) for rn in rn_binario_temp])\n",
    "        rn_normalizado_temp = rn_decimal_temp/(2**(n)-1)\n",
    "\n",
    "        rn_binario = np.append(rn_binario, rn_binario_temp)\n",
    "        rn_decimal = np.append(rn_decimal, rn_decimal_temp)\n",
    "        rn_normalizado = np.append(rn_normalizado, rn_normalizado_temp)\n",
    "    if v:\n",
    "        return rn_binario, rn_decimal, rn_normalizado\n",
    "    else:\n",
    "        return rn_normalizado"
   ]
  },
  {
   "cell_type": "markdown",
   "id": "84a20b2b-b6e1-407a-81b5-00e0daf476ed",
   "metadata": {},
   "source": [
    "Poniendo v=True, la salida serán tres listas de números aleatorios \n",
    "\n",
    "- en la primera, *rn_binario*,  las cadenas de 10-bits son intepretadas como numeros binarios.\n",
    "- en la segunda, *rn_decimal*,  se convierten a base 10\n",
    "- en la tercera, *rn_normalizado*,  se normalizan a 1 dividiendo por $2^{10}$."
   ]
  },
  {
   "cell_type": "code",
   "execution_count": null,
   "id": "8f6f14f0-4b03-426e-b435-525f2c473409",
   "metadata": {},
   "outputs": [],
   "source": [
    "rn_binario, rn_decimal, rn_normalizado = rn_gen_bsc(Nshots, n=10, v=True)"
   ]
  },
  {
   "cell_type": "markdown",
   "id": "a68da321-5a89-4f49-901c-0b58dc6c2548",
   "metadata": {},
   "source": [
    "Por ejemplo, podemos mirar cómo es el  *i*-esimo valor de la tres listas. "
   ]
  },
  {
   "cell_type": "code",
   "execution_count": null,
   "id": "0852213e-f38c-494d-ad1c-7808f54cfcc1",
   "metadata": {},
   "outputs": [],
   "source": [
    "i = 0\n",
    "print(f'el estado medido es |{rn_binario[i]}>')\n",
    "print(f'el número aleatorio obtenido es {rn_decimal[i]}')\n",
    "print(f'el número aleatorio normalizado a 1 es {rn_normalizado[i]:3.3f}')"
   ]
  },
  {
   "cell_type": "code",
   "execution_count": null,
   "id": "24c1132b-1f64-4889-b3f4-389291bfaa0e",
   "metadata": {},
   "outputs": [],
   "source": [
    "plt.hist(rn_normalizado)\n",
    "plt.show()"
   ]
  },
  {
   "cell_type": "markdown",
   "id": "649ce47b-be23-434c-b568-c09901d166f2",
   "metadata": {},
   "source": [
    "### Montecarlo con un ordenador cuántico\n",
    "\n",
    "*Ahora* estamos en disposición de realizar de nuevo el **Montecarlo** anterior, pero con un nuevo generador de números aleatorios de origen cuántico. \n"
   ]
  },
  {
   "cell_type": "code",
   "execution_count": null,
   "id": "2f528898-2893-4666-9447-d0fa123a7c37",
   "metadata": {},
   "outputs": [],
   "source": [
    "pi_value = MonteCarlo(Nshots//2, rn_gen_bsc)  #Ponemos Nshots//2 porque la mitad de números se dedicarán a la lista de x y la otra mitad a y\n",
    "\n",
    "print(f'El valor estimado de pi es {pi_value}')\n",
    "print(f'El valor exacto de pi es {np.pi}')\n",
    "\n",
    "grafica_de_puntos()"
   ]
  },
  {
   "cell_type": "markdown",
   "id": "2c819457-430b-410f-a637-c81f0fc8a727",
   "metadata": {},
   "source": [
    "## Generador Cuántico de Números Aleatorios  (QRNG)"
   ]
  },
  {
   "cell_type": "markdown",
   "id": "f3457164-bc66-480e-8876-4df6ff5c7100",
   "metadata": {},
   "source": [
    "Un ordenador cuántico cuesta del orden de 10 M€. Usar un ordenador cuántico para generar números aleatorios es como ir a la compra en un Ferrari. Para esta tarea, hay generadores cuánticos de números aleatorios específicos del tamaño de una mano. \n",
    "\n",
    "\n",
    "Ahora haremos el uso del QRNG que es un *Generador Cuántico de Numeros Aleatorios* ubicado en el  CESGA. Para saber mas sobre su funcionamiento puedes consultar [aquí](http://qrng.cesga.es/)\n",
    "\n",
    "\n",
    "<figure><center>\n",
    "<a id='fig_ref'></a>\n",
    "<img src=\"./Images/QRNG.png\" align=center width='600px'/>\n",
    "</center></figure>\n"
   ]
  },
  {
   "cell_type": "code",
   "execution_count": null,
   "id": "dcd52378-a4ef-43f0-a07e-56b48f223961",
   "metadata": {},
   "outputs": [],
   "source": [
    "# # Import math Library\n",
    "# import math\n",
    "# from api_qrng import ApiQrng\n",
    "# url = \"qrng.cesga.es\"\n",
    "# puerto=8000\n",
    "\n",
    "# test = ApiQrng(url = url, puerto=puerto)\n",
    "\n",
    "# test.get_token('curso865',\"qrnG.865\")\n",
    "# if test.token is not False:\n",
    "#     print(\"Estamos autenticados\")\n",
    "\n",
    "# ' de nuevo, el generador que necesitaremos para el MonteCarlo'\n",
    "# def rn_gen_qrng(N):\n",
    "#     '''QRNG del CESGA. La API solo permite generar 1000 números por llamada.\n",
    "#     Hacemos las llamadas que hagan falta dividiendo N en paquetes de como máximo 1000 números'''\n",
    "#     M = N//1000\n",
    "#     R = N%1000\n",
    "#     random_numbers = []\n",
    "#     for i in range(M):\n",
    "#         random_numbers += test.acotado(tipo_numero=2, paquete = 1000)\n",
    "#     if R!=0: random_numbers += test.acotado(tipo_numero=2, paquete = R)\n",
    "#     return np.array(random_numbers)"
   ]
  },
  {
   "cell_type": "markdown",
   "id": "fb8898a0-a2ea-468a-9146-6cdbb8638dbc",
   "metadata": {},
   "source": [
    "Vamos a ver cómo de *uniforme* es la distribución de números aleatorios"
   ]
  },
  {
   "cell_type": "code",
   "execution_count": null,
   "id": "dce7a23c-cc17-4f70-947a-ed796fd018af",
   "metadata": {},
   "outputs": [],
   "source": [
    "# qrng_lista = rn_gen_qrng(10000)\n",
    "# plt.hist(qrng_lista)\n",
    "# plt.show()"
   ]
  },
  {
   "cell_type": "markdown",
   "id": "34cbf1f2-711e-49df-8fee-23a69cf87e1e",
   "metadata": {},
   "source": [
    "Hacemos ahora un MonteCarlo con este nuevo generador de números aleatorios"
   ]
  },
  {
   "cell_type": "code",
   "execution_count": null,
   "id": "7c06e61f-01bb-4bad-8e51-4454f3f2f583",
   "metadata": {},
   "outputs": [],
   "source": [
    "# N = 10000\n",
    "\n",
    "# pi_value = MonteCarlo(N, rn_gen_qrng)\n",
    "\n",
    "# print(f'El valor estimado de pi es {pi_value}')\n",
    "# print(f'El valor exacto de pi es {np.pi}')\n",
    "\n",
    "# grafica_de_puntos()"
   ]
  },
  {
   "cell_type": "markdown",
   "id": "bd6e94cb",
   "metadata": {},
   "source": [
    "Volvemos a evaluar el promedio de resultados de $\\pi$ después de  un número de Montecarlos "
   ]
  },
  {
   "cell_type": "code",
   "execution_count": null,
   "id": "a9e2de42-7fdd-4d05-91eb-c639e3ac9be4",
   "metadata": {},
   "outputs": [],
   "source": [
    "# pi_1000_puntos  = [MonteCarlo(int(1e3), rn_gen_qrng) for i in range(10)]\n",
    "# print('La media de pi con N=1000 puntos  es %3.4f y su desviación típica %3.4f.' % (np.mean(pi_1000_puntos), np.std(pi_1000_puntos)))\n",
    "# pi_10000_puntos  = [MonteCarlo(int(1e4), rn_gen_qrng) for i in range(10)]\n",
    "# print('La media de pi con N=10000 puntos  es %3.4f y su desviación típica %3.4f.' % (np.mean(pi_10000_puntos), np.std(pi_10000_puntos)))"
   ]
  },
  {
   "cell_type": "code",
   "execution_count": null,
   "id": "514bb99b-f36f-4a10-9a3d-de9ee7918846",
   "metadata": {},
   "outputs": [],
   "source": [
    "# hist = plt.hist(pi_1000_puntos,  density=True, alpha = 0.6, label='N=%i' % 1000)\n",
    "# hist = plt.hist(pi_10000_puntos,  density=True, alpha = 0.6, label='N=%i' % 10000)\n",
    "# plt.vlines(np.pi, 0, np.max(hist[0]), 'k', label =r'$\\pi$')\n",
    "# #plt.xlim(np.mean(pis_1000)-2*np.std(pis_1000), np.mean(pis_1000)+2*np.std(pis_100))\n",
    "# plt.legend()\n",
    "# plt.show()"
   ]
  },
  {
   "cell_type": "markdown",
   "id": "e671b75f-c874-4323-b3ef-258391d9c380",
   "metadata": {},
   "source": [
    "# Extra"
   ]
  },
  {
   "cell_type": "markdown",
   "id": "a9f1e1ce-bf1f-48b6-a44c-b78bbc726144",
   "metadata": {},
   "source": [
    "La Mecánica Cuántica garantiza la independencia estadística de las **medida sucesivas** del estado que generado en el circuito cuántico mediante la puerta de Walsh-Hadamard.\n",
    "\n",
    "La uniformidad en la distribución proviene de que el estado es una superposición equilibrada de todos los estados de la base\n",
    "\n",
    "$$\n",
    "\\begin{array}{rcl}\n",
    "H^{\\otimes 3}\\ket{000} ~~=~~ H\\ket{0} H\\ket{0} H\\ket{0} ~~=~~ \\ket{+++} &=&\\displaystyle \\frac{1}{\\sqrt{2}}\\big(\\ket{0} + \\ket{1}\\big)\\frac{1}{\\sqrt{2}}\\big(\\ket{0} + \\ket{1}\\big)\\frac{1}{\\sqrt{2}}\\big(\\ket{0} + \\ket{1}\\big) \\\\\n",
    "&=&\\displaystyle \\frac{1}{2^{3/2}}\\big(\n",
    "\\ket{000} + \\ket{001} + \\ket{010} + \\ket{011} + \\ket{100} + \\ket{101} + \\ket{110} + \\ket{111}  \\big)\n",
    "\\end{array}\n",
    "$$\n"
   ]
  },
  {
   "cell_type": "markdown",
   "id": "793a07a9-6395-4e4e-b3de-c6670526ec0c",
   "metadata": {},
   "source": [
    "Clásicamente, es igual de aleatorio el resultado de ejecutar el generador una vez antes de apuntar el resultado que hacerlo dos  o más veces."
   ]
  },
  {
   "cell_type": "code",
   "execution_count": null,
   "id": "3a2621ea-27eb-4779-a233-f3f8591f462c",
   "metadata": {},
   "outputs": [],
   "source": [
    "seed = 0.7\n",
    "\n",
    "def rn_gen_clasico_tirada_doble():\n",
    "    global seed\n",
    "    'primera tirada'\n",
    "    seed = (a*seed  % m)/m\n",
    "    'segunda tirada'\n",
    "    seed = (a*seed  % m)/m\n",
    "    return seed\n",
    "\n",
    "a = 47324\n",
    "m = 2**10\n",
    "\n",
    "N = 1000 # número de iteraciones\n",
    "rn_lista_clasicos_tirada_doble = [rn_gen_clasico_tirada_doble() for i in range(1000)]\n",
    "\n",
    "plt.hist(rn_lista_clasicos_tirada_doble)"
   ]
  },
  {
   "cell_type": "markdown",
   "id": "3fc447cf-ad7f-4d44-87f8-3bf813fa8258",
   "metadata": {},
   "source": [
    "<div class=\"alert alert-block alert-success\">\n",
    "<b>¡A jugar!</b>:  añade más tiradas antes de la salida y comprueba que nada cambia en esencia\n",
    "</div>\n"
   ]
  },
  {
   "cell_type": "markdown",
   "id": "40b53cac-97cb-4fe1-8515-bf56065917b9",
   "metadata": {},
   "source": [
    "Vamos a ver qué ocurre si utilizamos el circuito cuántico, donde aplicamos la puerta de Walsh-Hadamard **dos veces antes de medir**."
   ]
  },
  {
   "cell_type": "code",
   "execution_count": null,
   "id": "bb523754-bd1f-4942-871c-a6eb56712b32",
   "metadata": {},
   "outputs": [],
   "source": [
    "'ahora fabricamos el circuito con doble pueta WH '\n",
    "num_qubits = 5\n",
    "qc_rng2H = Circuit(num_qubits)\n",
    "for i in range(num_qubits):\n",
    "    'primera tirada'\n",
    "    qc_rng2H.add(gates.H(i))\n",
    "    'segunda tirada'\n",
    "    qc_rng2H.add(gates.H(i))\n",
    "    'medimos'\n",
    "    qc_rng2H.add(gates.M(i))\n",
    "\n",
    "draw_qibo_circuit_mpl(qc_rng2H)"
   ]
  },
  {
   "cell_type": "markdown",
   "id": "63cf0724-4194-464c-a2d2-e49e194021e0",
   "metadata": {},
   "source": [
    "**con** este circuito vamos a ver cómo de aleatoria es la salida"
   ]
  },
  {
   "cell_type": "code",
   "execution_count": null,
   "id": "2990ec94-729b-4f5c-a3a6-f287c0e4d744",
   "metadata": {},
   "outputs": [],
   "source": [
    "N = 2000\n",
    "resultado = qc_rng2H(nshots=N)\n",
    "print(resultado.frequencies())\n",
    "\n",
    "plt.bar(resultado.frequencies().keys(), resultado.frequencies().values())\n",
    "plt.xticks(range(2**num_qubits)[::2])\n",
    "plt.show()"
   ]
  },
  {
   "cell_type": "markdown",
   "id": "c5df2596-1c3a-4eb1-9a79-f7a1cf3d0470",
   "metadata": {},
   "source": [
    "<div class=\"alert alert-block alert-success\">\n",
    "<b>¡A jugar!</b>:  investiga qué sucede si \n",
    "    \n",
    "- añades más puertas de Walsh-Hadamard al circuito\n",
    "\n",
    "- intercalas medidas entre las dos tiradas\n",
    "</div>\n"
   ]
  },
  {
   "cell_type": "markdown",
   "id": "1cab12ff-be59-40fe-beb8-6f3fc718a067",
   "metadata": {},
   "source": [
    "Si recordamos lo comentado anteriormente, aplicar la puerta Hadamard sobre $\\ket{0}$ puede interpretarse como el proceso de tirar una moneda. Por lo que aplicar dos puertas H (seguidas), corresponde a tirar una moneda una vez y sin mirar volverla a tirar. Tras esta breve explicación, planteamos dos situaciones:\n",
    "- Tirar la moneda, mirar el resultado y volver a tirar la moneda.\n",
    "- Tirar la moneda y sin mirar volverla a tirar.\n",
    "\n",
    "En computación clásica, ambas situaciones tendran una distribución de probabilidad muy similar. Es decir, el mirar o no mirar el resultado de la primera tirada no afectará al resultado que obtendremos al mirar el resultado tras el segundo lanzamiento. Tal y como se muestra en las celdas anteriores, esto no ocurre en computación cuántica, en este caso aplicar dos veces la puerta H nos asegura que obtendremos el estado inicial el 100% de las ocasiones. \n",
    "\n",
    "¿Por qué ocurre esto? Si analizamos el proceso matemáticamente veremos facilmente lo ocurrido.\n",
    "\n",
    "$$\n",
    "HH\\ket{0} = \\frac{1}{\\sqrt{2}} \\begin{bmatrix} 1& 1 \\\\ 1 & -1 \\end{bmatrix} \\frac{1}{\\sqrt{2}} \\begin{bmatrix} 1& 1 \\\\ 1 & -1 \\end{bmatrix} \\begin{bmatrix}  1\\\\ 0\\end{bmatrix} = \\frac{1}{2}\\begin{bmatrix} 2& 0 \\\\ 0 & 2 \\end{bmatrix}\\begin{bmatrix}  1\\\\ 0\\end{bmatrix} = \\begin{bmatrix} 1& 0 \\\\ 0 & 1 \\end{bmatrix}\\begin{bmatrix}  1\\\\ 0\\end{bmatrix} = I\\ket{0} = \\ket{0}\n",
    "$$\n",
    "\n",
    "El aplicar dos veces la puerta H se traduce en multiplicar H por si misma, vemos que al realizar dicha multiplicación obtenemos la matriz identidad. De manera que el estado inicial no se ve modificado."
   ]
  },
  {
   "cell_type": "markdown",
   "id": "aa1264ec-5b18-44e0-9fcf-1a79b2e19efb",
   "metadata": {},
   "source": [
    "<div class=\"alert alert-block alert-danger\">\n",
    "<b> En resumen</b>:\n",
    "\n",
    "- las tiradas cuánticas sucesivas son estadísticamente independientes <b>si medimos</b> después de cada una de ellas.\n",
    "\n",
    "- <b>si no medimos</b>, toda la aleatoriedad generada en la primera tirada se cancele exactamente en la segunda. Esto es un ejemplo del fenómeno de interferencia cuántica que cancela todas las posibles salidas menos una. En este caso,  precisamente igual a la entrada.\n",
    "    \n",
    "</div>"
   ]
  }
 ],
 "metadata": {
  "kernelspec": {
   "display_name": "Python 3 (ipykernel)",
   "language": "python",
   "name": "python3"
  },
  "language_info": {
   "codemirror_mode": {
    "name": "ipython",
    "version": 3
   },
   "file_extension": ".py",
   "mimetype": "text/x-python",
   "name": "python",
   "nbconvert_exporter": "python",
   "pygments_lexer": "ipython3",
   "version": "3.11.4"
  },
  "nbTranslate": {
   "displayLangs": [
    "*"
   ],
   "hotkey": "alt-t",
   "langInMainMenu": true,
   "sourceLang": "en",
   "targetLang": "fr",
   "useGoogleTranslate": true
  },
  "toc": {
   "base_numbering": 1,
   "nav_menu": {},
   "number_sections": true,
   "sideBar": true,
   "skip_h1_title": false,
   "title_cell": "Table of Contents",
   "title_sidebar": "Contents",
   "toc_cell": false,
   "toc_position": {},
   "toc_section_display": true,
   "toc_window_display": false
  },
  "varInspector": {
   "cols": {
    "lenName": 16,
    "lenType": 16,
    "lenVar": 40
   },
   "kernels_config": {
    "python": {
     "delete_cmd_postfix": "",
     "delete_cmd_prefix": "del ",
     "library": "var_list.py",
     "varRefreshCmd": "print(var_dic_list())"
    },
    "r": {
     "delete_cmd_postfix": ") ",
     "delete_cmd_prefix": "rm(",
     "library": "var_list.r",
     "varRefreshCmd": "cat(var_dic_list()) "
    }
   },
   "types_to_exclude": [
    "module",
    "function",
    "builtin_function_or_method",
    "instance",
    "_Feature"
   ],
   "window_display": false
  }
 },
 "nbformat": 4,
 "nbformat_minor": 5
}
